{
 "cells": [
  {
   "cell_type": "markdown",
   "id": "3adb470a",
   "metadata": {},
   "source": [
    "## Captura de datos y entrega de acciones"
   ]
  },
  {
   "cell_type": "code",
   "execution_count": 45,
   "id": "268c6a52",
   "metadata": {},
   "outputs": [
    {
     "name": "stdout",
     "output_type": "stream",
     "text": [
      "Se encontraron 1119 acciones posibles:\n",
      "\n",
      "{'tipo': 'enlace', 'texto': 'Skip to Main Content', 'href': '#main-content'}\n",
      "{'tipo': 'enlace', 'texto': 'Ley de transparencia', 'href': 'https://www.segurossura.com.co/paginas/ley-de-transparencia.aspx'}\n",
      "{'tipo': 'enlace', 'texto': 'Iniciar sesión', 'href': '#'}\n",
      "{'tipo': 'enlace', 'texto': 'Sucursal Virtual Personas', 'href': 'https://login.sura.com/sso/servicelogin.aspx?continueTo=https%3A%2F%2Fsucursal.segurossura.com.co&service=clienteseguros'}\n",
      "{'tipo': 'enlace', 'texto': 'Solicita tu clave', 'href': 'https://www.segurossura.com.co/paginas/registro-de-usuarios.aspx'}\n",
      "{'tipo': 'enlace', 'texto': 'Proveedores', 'href': 'https://proveedor.sura.com/Paginas/Publicas/Home.aspx'}\n",
      "{'tipo': 'enlace', 'texto': 'Asesores', 'href': 'https://login.sura.com/sso/servicelogin.aspx?continueTo=https%3A%2F%2Fasesores.segurossura.com.co&service=portaluasesores'}\n",
      "{'tipo': 'enlace', 'texto': 'Personas', 'href': '#'}\n",
      "{'tipo': 'enlace', 'texto': 'Movilidad', 'href': '#'}\n",
      "{'tipo': 'enlace', 'texto': 'Plan Muévete Libre', 'href': 'https://www.segurossura.com.co/paginas/movilidad/plan-muevete-libre.aspx'}\n",
      "{'tipo': 'enlace', 'texto': 'Plan Utilitarios y Pesados', 'href': 'https://www.segurossura.com.co/paginas/movilidad/vehiculos-utilitarios-y-pesados.aspx'}\n",
      "{'tipo': 'enlace', 'texto': 'Seguro de Autos', 'href': 'https://www.sura.co/seguros/personas/movilidad/autos'}\n",
      "{'tipo': 'enlace', 'texto': 'Seguro de Bicis y Patinetas', 'href': 'https://www.sura.co/seguros/personas/movilidad/bicicletas-patinetas'}\n",
      "{'tipo': 'enlace', 'texto': 'Seguro de Motos', 'href': 'https://www.sura.co/seguros/personas/movilidad/motos'}\n",
      "{'tipo': 'enlace', 'texto': 'Seguro Obligatorio (SOAT)', 'href': 'https://www.sura.co/seguros/personas/movilidad/soat'}\n",
      "{'tipo': 'enlace', 'texto': 'Seguro de Viaje', 'href': 'https://www.sura.co/seguros/personas/salud/viajes'}\n",
      "{'tipo': 'enlace', 'texto': 'Salud', 'href': '#'}\n",
      "{'tipo': 'enlace', 'texto': 'Pólizas de Salud', 'href': 'https://www.sura.co/seguros/personas/salud'}\n",
      "{'tipo': 'enlace', 'texto': 'Póliza Plan Renta Diaria', 'href': 'https://www.sura.co/seguros/personas/salud/renta-diaria'}\n",
      "{'tipo': 'enlace', 'texto': 'Salud para Dos', 'href': 'https://www.sura.co/seguros/personas/salud/salud-para-dos'}\n"
     ]
    }
   ],
   "source": [
    "import requests\n",
    "from bs4 import BeautifulSoup\n",
    "\n",
    "def agente_web(url=\"https://www.sura.co/seguros\"):\n",
    "    resp = requests.get(url)\n",
    "    resp.raise_for_status()\n",
    "\n",
    "    soup = BeautifulSoup(resp.text, \"html.parser\")\n",
    "\n",
    "    acciones = []\n",
    "\n",
    "    # Buscar dentro de <nav> y <main> solamente\n",
    "    secciones = soup.find_all([\"nav\", \"main\", \"header\", \"section\"])\n",
    "    for seccion in secciones:\n",
    "        for a in seccion.find_all(\"a\", href=True):\n",
    "            texto = a.get_text(strip=True)\n",
    "            if texto and len(texto) > 3 and not any(x in a[\"href\"] for x in [\"facebook\", \"twitter\", \"legal\", \"aviso\"]):\n",
    "                acciones.append({\n",
    "                    \"tipo\": \"enlace\",\n",
    "                    \"texto\": texto,\n",
    "                    \"href\": a[\"href\"]\n",
    "                })\n",
    "\n",
    "        for b in seccion.find_all(\"button\"):\n",
    "            texto = b.get_text(strip=True)\n",
    "            if texto and len(texto) > 3:\n",
    "                acciones.append({\n",
    "                    \"tipo\": \"botón\",\n",
    "                    \"texto\": texto\n",
    "                })\n",
    "\n",
    "    return acciones\n",
    "\n",
    "# Ejemplo de uso\n",
    "if __name__ == \"__main__\":\n",
    "    acciones = agente_web()\n",
    "    print(f\"Se encontraron {len(acciones)} acciones posibles:\\n\")\n",
    "    for act in acciones[:20]:\n",
    "        print(act)"
   ]
  },
  {
   "cell_type": "code",
   "execution_count": 46,
   "id": "502646f4",
   "metadata": {},
   "outputs": [],
   "source": [
    "# --- buscador_local.py ---\n",
    "from difflib import SequenceMatcher\n",
    "\n",
    "def buscar_acciones_relacionadas(pregunta, acciones, top_n=5):\n",
    "    pregunta = pregunta.lower()\n",
    "    resultados = []\n",
    "\n",
    "    for a in acciones:\n",
    "        texto = a[\"texto\"].lower()\n",
    "        similitud = SequenceMatcher(None, pregunta, texto).ratio()\n",
    "        if any(palabra in texto for palabra in pregunta.split()):\n",
    "            similitud += 0.2  # bonus si hay palabras exactas\n",
    "        resultados.append((similitud, a))\n",
    "\n",
    "    resultados.sort(key=lambda x: x[0], reverse=True)\n",
    "    return [r[1] for r in resultados[:top_n]]"
   ]
  },
  {
   "cell_type": "code",
   "execution_count": 48,
   "id": "a48fcc14",
   "metadata": {},
   "outputs": [
    {
     "name": "stdout",
     "output_type": "stream",
     "text": [
      " Acciones detectadas: 1119\n",
      " Acciones relacionadas:\n",
      "1. Enlace: Seguro de Motos https://www.sura.co/seguros/personas/movilidad/motos\n",
      "2. Enlace: Seguro de Motos https://www.sura.co/seguros/personas/movilidad/motos\n",
      "3. Enlace: Seguro de Motos https://www.sura.co/seguros/personas/movilidad/motos\n",
      "4. Enlace: Seguro de Motos https://www.sura.co/seguros/personas/movilidad/motos\n",
      "5. Enlace: Seguro de Motos https://www.sura.co/seguros/personas/movilidad/motos\n"
     ]
    }
   ],
   "source": [
    "acciones = agente_web(\"https://www.sura.co/seguros\")\n",
    "print(f\" Acciones detectadas: {len(acciones)}\")\n",
    "\n",
    "pregunta = input(\"¿Qué necesitas hacer en la web?\")\n",
    "\n",
    "acciones_relacionadas = buscar_acciones_relacionadas(pregunta, acciones, top_n=5)\n",
    "\n",
    "if acciones_relacionadas:\n",
    "    print(\" Acciones relacionadas:\")\n",
    "    for i, a in enumerate(acciones_relacionadas, 1):\n",
    "        tipo = \"Enlace\" if a[\"tipo\"] == \"enlace\" else \"Botón\"\n",
    "        link = f\"{a['href']}\" if \"href\" in a else \"\"\n",
    "        print(f\"{i}. {tipo}: {a['texto']} {link}\")\n",
    "else:\n",
    "    print(\" No se encontraron acciones relacionadas.\")"
   ]
  }
 ],
 "metadata": {
  "kernelspec": {
   "display_name": "neo4j_env",
   "language": "python",
   "name": "python3"
  },
  "language_info": {
   "codemirror_mode": {
    "name": "ipython",
    "version": 3
   },
   "file_extension": ".py",
   "mimetype": "text/x-python",
   "name": "python",
   "nbconvert_exporter": "python",
   "pygments_lexer": "ipython3",
   "version": "3.12.10"
  }
 },
 "nbformat": 4,
 "nbformat_minor": 5
}
